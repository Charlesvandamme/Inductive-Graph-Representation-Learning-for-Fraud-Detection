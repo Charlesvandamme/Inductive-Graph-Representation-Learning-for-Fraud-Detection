{
 "cells": [
  {
   "cell_type": "markdown",
   "metadata": {},
   "source": [
    "## Preprocessing the Credit Card Transactions data"
   ]
  },
  {
   "cell_type": "code",
   "execution_count": 1,
   "metadata": {},
   "outputs": [],
   "source": [
    "data_path = \"D:\\\\Users\\\\r0625260\\\\Downloads\\\\wetransfer-9c05d3\\\\Credit Card Transaction Data.csv\""
   ]
  },
  {
   "cell_type": "code",
   "execution_count": 2,
   "metadata": {},
   "outputs": [
    {
     "name": "stderr",
     "output_type": "stream",
     "text": [
      "D:\\Users\\r0625260\\.conda\\envs\\newenv\\lib\\site-packages\\numpy\\lib\\arraysetops.py:569: FutureWarning: elementwise comparison failed; returning scalar instead, but in the future will perform elementwise comparison\n",
      "  mask |= (ar1 == a)\n"
     ]
    }
   ],
   "source": [
    "# Import the credit card dataset (decimal separator needs to be changed from ',' to '.', csv separator is ';')\n",
    "import pandas as pd\n",
    "df = pd.read_csv(data_path, sep=';', index_col=0, parse_dates=[6], decimal=',')"
   ]
  },
  {
   "cell_type": "markdown",
   "metadata": {},
   "source": [
    "`CARD_PAN_ID` and `TERM_MIDUID` will be used to identify client and merchant nodes respectively. We replace these string values with integers and ensure that client, transaction and merchant nodes have globally unique ID's."
   ]
  },
  {
   "cell_type": "code",
   "execution_count": 6,
   "metadata": {},
   "outputs": [],
   "source": [
    "node_identifier1 = pd.DataFrame(df['CARD_PAN_ID'].unique())\n",
    "node_identifier1['numeric_node_identifier1'] = node_identifier1.index + max(df.index) + 1\n",
    "\n",
    "node_identifier2 = pd.DataFrame(df['TERM_MIDUID'].unique())\n",
    "node_identifier2['numeric_node_identifier2'] = node_identifier2.index + max(node_identifier1['numeric_node_identifier1']) + 1\n",
    "def update_type(t1, t2, dropna=False):\n",
    "    return t1.map(t2).dropna() if dropna else t1.map(t2).fillna(t1)\n",
    "updated = update_type(df.CARD_PAN_ID, node_identifier1.set_index(0).numeric_node_identifier1)\n",
    "\n",
    "df = pd.concat([df.drop('CARD_PAN_ID', axis = 1), updated], axis=1)\n",
    "updated = update_type(df.TERM_MIDUID, node_identifier2.set_index(0).numeric_node_identifier2)\n",
    "\n",
    "df = pd.concat([df.drop('TERM_MIDUID', axis = 1), updated], axis=1)\n"
   ]
  },
  {
   "cell_type": "markdown",
   "metadata": {},
   "source": [
    "This cell transforms the remaining input dataset into numeric format. We transform the `TX_FRAUD` and `TX_ACCEPTED` labels from boolean to binary values. In addition, the timestamp is converted into its components, and dummy variables are created for the country attribute. "
   ]
  },
  {
   "cell_type": "code",
   "execution_count": null,
   "metadata": {},
   "outputs": [],
   "source": [
    "df.TX_FRAUD = df.TX_FRAUD.astype(int)\n",
    "\n",
    "df.TX_ACCEPTED = df.TX_ACCEPTED.astype(int)\n",
    "\n",
    "df['year'] = df.TX_DATETIME.dt.year\n",
    "df['month'] = df.TX_DATETIME.dt.month\n",
    "df['day'] = df.TX_DATETIME.dt.day\n",
    "df['hour'] = df.TX_DATETIME.dt.hour\n",
    "df['minutes'] = df.TX_DATETIME.dt.minute\n",
    "df['seconds'] = df.TX_DATETIME.dt.second\n",
    "df = df.drop('TX_DATETIME', axis=1)\n",
    "df = pd.get_dummies(df)\n",
    "df.apply(pd.to_numeric) "
   ]
  }
 ],
 "metadata": {
  "kernelspec": {
   "display_name": "Python 3",
   "language": "python",
   "name": "python3"
  },
  "language_info": {
   "codemirror_mode": {
    "name": "ipython",
    "version": 3
   },
   "file_extension": ".py",
   "mimetype": "text/x-python",
   "name": "python",
   "nbconvert_exporter": "python",
   "pygments_lexer": "ipython3",
   "version": "3.7.6"
  }
 },
 "nbformat": 4,
 "nbformat_minor": 2
}
