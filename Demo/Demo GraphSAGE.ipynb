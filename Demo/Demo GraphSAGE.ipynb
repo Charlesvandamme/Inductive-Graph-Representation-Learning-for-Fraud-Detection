{
  "cells": [
    {
      "cell_type": "markdown",
      "source": [
        "# Demo: Pipeline with GraphSAGE"
      ],
      "metadata": {}
    },
    {
      "cell_type": "markdown",
      "source": [
        "Two global parameters need to be defined for this pipeline. The embedding size of graphsage's embeddings, and a boolean variable 'add additional data'. The latter is set to True so that the original transaction node data is added to the embeddings before classifications are made by our downstream classifier. It is advised to set this parameter to true, given that transaction features have proven to be very useful in traditional fraud detection. "
      ],
      "metadata": {}
    },
    {
      "cell_type": "code",
      "source": [
        "# Global parameters:\n",
        "embedding_size = 64\n",
        "add_additional_data = True"
      ],
      "outputs": [],
      "execution_count": 1,
      "metadata": {}
    },
    {
      "cell_type": "markdown",
      "source": [
        "### 1. Loading the Credit Card Transaction Data"
      ],
      "metadata": {}
    },
    {
      "cell_type": "markdown",
      "source": [
        "Load numeric, artificially generated transaction data. "
      ],
      "metadata": {}
    },
    {
      "cell_type": "code",
      "source": [
        "import pandas as pd \n",
        "import numpy as np\n",
        "\n",
        "df = pd.read_csv(\"demo_ccf.csv\")"
      ],
      "outputs": [],
      "execution_count": 2,
      "metadata": {}
    },
    {
      "cell_type": "markdown",
      "source": [
        "the `train_data` variable stores the data that will be used to construct graphs on which the representation learners can train. \n",
        "the `inductive_data` will be used to test the inductive performance of our representation learning algorithms."
      ],
      "metadata": {}
    },
    {
      "cell_type": "code",
      "source": [
        "cutoff = round(0.6*len(df)) # first 60% of transactions are used for training, last 40% to test inductive capability\n",
        "train_data = df.head(cutoff)\n",
        "inductive_data = df.tail(len(df)-cutoff)"
      ],
      "outputs": [],
      "execution_count": 3,
      "metadata": {}
    },
    {
      "cell_type": "code",
      "source": [
        "print('The distribution of fraud for the train data is:\\n', train_data['fraud_label'].value_counts())\n",
        "print('The distribution of fraud for the inductive data is:\\n', inductive_data['fraud_label'].value_counts())"
      ],
      "outputs": [
        {
          "output_type": "stream",
          "name": "stdout",
          "text": [
            "The distribution of fraud for the train data is:\n",
            " 0    482\n",
            "1    164\n",
            "Name: fraud_label, dtype: int64\n",
            "The distribution of fraud for the inductive data is:\n",
            " 0    327\n",
            "1    103\n",
            "Name: fraud_label, dtype: int64\n"
          ]
        }
      ],
      "execution_count": 4,
      "metadata": {}
    },
    {
      "cell_type": "markdown",
      "source": [
        "### 2. Construct the Credit Card Transaction Network"
      ],
      "metadata": {}
    },
    {
      "cell_type": "markdown",
      "source": [
        "nodes, edges and features are passed to the GraphConstruction constructor. Note that client and merchant node data hold a trivial attribute with value 1. This because we want all the relevant transaction data to reside at the transaction nodes and StellarGraph's current HinSAGE implementation requires all nodes to have features. "
      ],
      "metadata": {}
    },
    {
      "cell_type": "code",
      "source": [
        "from InductiveGRL.graphconstruction import GraphConstruction\n",
        "\n",
        "transaction_node_data = train_data.drop(\"client_node\", axis=1).drop(\"merchant_node\", axis=1).drop(\"fraud_label\", axis=1).drop('index', axis=1)\n",
        "client_node_data = pd.DataFrame([1]*len(train_data.client_node.unique())).set_index(train_data.client_node.unique())\n",
        "merchant_node_data = pd.DataFrame([1]*len(train_data.merchant_node.unique())).set_index(train_data.merchant_node.unique())\n",
        "\n",
        "nodes = {\"client\":train_data.client_node, \"merchant\":train_data.merchant_node, \"transaction\":train_data.index}\n",
        "edges = [zip(train_data.client_node, train_data.index),zip(train_data.merchant_node, train_data.index)]\n",
        "features = {\"transaction\": transaction_node_data, 'client': client_node_data, 'merchant': merchant_node_data}\n",
        "\n",
        "graph = GraphConstruction(nodes, edges, features)\n",
        "S = graph.get_stellargraph()\n",
        "print(S.info())"
      ],
      "outputs": [
        {
          "output_type": "stream",
          "name": "stdout",
          "text": [
            "StellarGraph: Undirected multigraph\n",
            " Nodes: 1525, Edges: 1292\n",
            "\n",
            " Node types:\n",
            "  transaction: [646]\n",
            "    Features: float32 vector, length 111\n",
            "    Edge types: transaction-default->client, transaction-default->merchant\n",
            "  client: [533]\n",
            "    Features: float32 vector, length 1\n",
            "    Edge types: client-default->transaction\n",
            "  merchant: [346]\n",
            "    Features: float32 vector, length 1\n",
            "    Edge types: merchant-default->transaction\n",
            "\n",
            " Edge types:\n",
            "    merchant-default->transaction: [646]\n",
            "        Weights: all 1 (default)\n",
            "        Features: none\n",
            "    client-default->transaction: [646]\n",
            "        Weights: all 1 (default)\n",
            "        Features: none\n"
          ]
        }
      ],
      "execution_count": 5,
      "metadata": {
        "scrolled": false
      }
    },
    {
      "cell_type": "markdown",
      "source": [
        "## 2.1. Train GraphSAGE"
      ],
      "metadata": {}
    },
    {
      "cell_type": "markdown",
      "source": [
        "HinSAGE, a heterogeneous implementation of the GraphSAGE framework is trained with user specified hyperparameters."
      ],
      "metadata": {}
    },
    {
      "cell_type": "code",
      "source": [
        "from inductiveGRL.hinsage import HinSAGE_Representation_Learner\n",
        "\n",
        "#GraphSAGE parameters\n",
        "num_samples = [2,32]\n",
        "embedding_node_type = \"transaction\"\n",
        "\n",
        "hinsage = HinSAGE_Representation_Learner(embedding_size, num_samples, embedding_node_type)\n",
        "trained_hinsage_model, train_emb = hinsage.train_hinsage(S, list(train_data.index), train_data['fraud_label'], batch_size=5, epochs=10)"
      ],
      "outputs": [
        {
          "output_type": "stream",
          "name": "stderr",
          "text": [
            "Using TensorFlow backend.\n"
          ]
        },
        {
          "output_type": "stream",
          "name": "stdout",
          "text": [
            "Epoch 1/10\n",
            "104/104 [==============================] - 2s 15ms/step - loss: 0.5768 - val_loss: 0.5605\n",
            "Epoch 2/10\n",
            "104/104 [==============================] - 1s 8ms/step - loss: 0.5699 - val_loss: 0.5603\n",
            "Epoch 3/10\n",
            "104/104 [==============================] - 1s 9ms/step - loss: 0.5695 - val_loss: 0.5603\n",
            "Epoch 4/10\n",
            "104/104 [==============================] - 1s 9ms/step - loss: 0.5707 - val_loss: 0.5603\n",
            "Epoch 5/10\n",
            "104/104 [==============================] - 1s 7ms/step - loss: 0.5691 - val_loss: 0.5602\n",
            "Epoch 6/10\n",
            "104/104 [==============================] - 1s 10ms/step - loss: 0.5693 - val_loss: 0.5602\n",
            "Epoch 7/10\n",
            "104/104 [==============================] - 1s 11ms/step - loss: 0.5698 - val_loss: 0.5603\n",
            "Epoch 8/10\n",
            "104/104 [==============================] - 1s 9ms/step - loss: 0.5686 - val_loss: 0.5607\n",
            "Epoch 9/10\n",
            "104/104 [==============================] - 1s 9ms/step - loss: 0.5703 - val_loss: 0.5604\n",
            "Epoch 10/10\n",
            "104/104 [==============================] - 1s 10ms/step - loss: 0.5686 - val_loss: 0.5601\n"
          ]
        }
      ],
      "execution_count": 6,
      "metadata": {}
    },
    {
      "cell_type": "markdown",
      "source": [
        "## 2.2. Inductive Step GraphSAGE"
      ],
      "metadata": {}
    },
    {
      "cell_type": "markdown",
      "source": [
        "We want to keep the original indices after concatenating the train and inductive data, because they represent the transaction node ids. We need to concatenate these dataframes in order to easily construct the new graph."
      ],
      "metadata": {}
    },
    {
      "cell_type": "code",
      "source": [
        "pd.options.mode.chained_assignment = None\n",
        "\n",
        "train_data['index'] = train_data.index\n",
        "inductive_data['index'] = inductive_data.index\n",
        "inductive_graph_data = pd.concat((train_data,inductive_data))\n",
        "inductive_graph_data = inductive_graph_data.set_index(inductive_graph_data['index']).drop(\"index\",axis = 1)"
      ],
      "outputs": [],
      "execution_count": 7,
      "metadata": {}
    },
    {
      "cell_type": "markdown",
      "source": [
        "For the inductive step, we need to add the new, unseen transactions to the graph. Because the current StellarGraph implementation does not support adding nodes and edges to an existing stellargraph object, we create a new graph that contains all the nodes from the train graph in addition to the new nodes."
      ],
      "metadata": {}
    },
    {
      "cell_type": "code",
      "source": [
        "transaction_node_data = inductive_graph_data.drop(\"client_node\", axis=1).drop(\"merchant_node\", axis=1).drop(\"fraud_label\", axis=1)\n",
        "client_node_data = pd.DataFrame([1]*len(inductive_graph_data.client_node.unique())).set_index(inductive_graph_data.client_node.unique())\n",
        "merchant_node_data = pd.DataFrame([1]*len(inductive_graph_data.merchant_node.unique())).set_index(inductive_graph_data.merchant_node.unique())\n",
        "\n",
        "nodes = {\"client\":inductive_graph_data.client_node, \"merchant\":inductive_graph_data.merchant_node, \"transaction\":inductive_graph_data.index}\n",
        "edges = [zip(inductive_graph_data.client_node, inductive_graph_data.index),zip(inductive_graph_data.merchant_node, inductive_graph_data.index)]\n",
        "features = {\"transaction\": transaction_node_data, 'client': client_node_data, 'merchant': merchant_node_data}\n",
        "\n",
        "graph = GraphConstruction(nodes, edges, features)\n",
        "S = graph.get_stellargraph()\n",
        "print(S.info())"
      ],
      "outputs": [
        {
          "output_type": "stream",
          "name": "stdout",
          "text": [
            "StellarGraph: Undirected multigraph\n",
            " Nodes: 2444, Edges: 2152\n",
            "\n",
            " Node types:\n",
            "  transaction: [1076]\n",
            "    Features: float32 vector, length 111\n",
            "    Edge types: transaction-default->client, transaction-default->merchant\n",
            "  client: [872]\n",
            "    Features: float32 vector, length 1\n",
            "    Edge types: client-default->transaction\n",
            "  merchant: [496]\n",
            "    Features: float32 vector, length 1\n",
            "    Edge types: merchant-default->transaction\n",
            "\n",
            " Edge types:\n",
            "    merchant-default->transaction: [1076]\n",
            "        Weights: all 1 (default)\n",
            "        Features: none\n",
            "    client-default->transaction: [1076]\n",
            "        Weights: all 1 (default)\n",
            "        Features: none\n"
          ]
        }
      ],
      "execution_count": 8,
      "metadata": {}
    },
    {
      "cell_type": "markdown",
      "source": [
        "The inductive step applies the previously learned (and optimized) aggregation functions, part of the `trained_hinsage_model`. We also pass the new graph S and the node identifiers (inductive_data.index) to the inductive step. "
      ],
      "metadata": {}
    },
    {
      "cell_type": "code",
      "source": [
        "inductive_emb = hinsage.inductive_step_hinsage(S, trained_hinsage_model, inductive_data.index, batch_size=5)"
      ],
      "outputs": [
        {
          "output_type": "stream",
          "name": "stdout",
          "text": [
            "86/86 [==============================] - 1s 8ms/step\n"
          ]
        }
      ],
      "execution_count": 9,
      "metadata": {}
    },
    {
      "cell_type": "markdown",
      "source": [
        "### 4. Classification: predictions based on inductive embeddings"
      ],
      "metadata": {}
    },
    {
      "cell_type": "markdown",
      "source": [
        "Select your preferred classification model"
      ],
      "metadata": {}
    },
    {
      "cell_type": "code",
      "source": [
        "from xgboost import XGBClassifier\n",
        "classifier = XGBClassifier(n_estimators=100)"
      ],
      "outputs": [],
      "execution_count": 10,
      "metadata": {}
    },
    {
      "cell_type": "markdown",
      "source": [
        "If requested, the original transaction features are added to the generated embeddings. If these features are added, a baseline consisting of only these features (without embeddings) is included to analyze the net impact of embeddings on the predictive performance."
      ],
      "metadata": {}
    },
    {
      "cell_type": "code",
      "source": [
        "train_labels = train_data['fraud_label']\n",
        "\n",
        "if add_additional_data is True:\n",
        "    train_emb = pd.merge(train_emb, train_data.loc[train_emb.index].drop('fraud_label', axis=1), left_index=True, right_index=True)\n",
        "    inductive_emb = pd.merge(inductive_emb, inductive_data.loc[inductive_emb.index].drop('fraud_label', axis=1), left_index=True, right_index=True)\n",
        "\n",
        "    baseline_train = train_data.drop('fraud_label', axis=1)\n",
        "    baseline_inductive = inductive_data.drop('fraud_label', axis=1)\n",
        "\n",
        "    classifier.fit(baseline_train, train_labels)\n",
        "    baseline_predictions = classifier.predict_proba(baseline_inductive)\n",
        "    \n",
        "classifier.fit(train_emb, train_labels)\n",
        "predictions = classifier.predict_proba(inductive_emb)\n"
      ],
      "outputs": [],
      "execution_count": 11,
      "metadata": {}
    },
    {
      "cell_type": "markdown",
      "source": [
        "### 5. Evaluation"
      ],
      "metadata": {}
    },
    {
      "cell_type": "markdown",
      "source": [
        "Given the highly imbalanced nature of our dataset, we evaluate the results based on precision-recall curves. "
      ],
      "metadata": {}
    },
    {
      "cell_type": "code",
      "source": [
        "from inductiveGRL.evaluation import Evaluation\n",
        "inductive_labels = df.loc[inductive_emb.index]['fraud_label']\n",
        "\n",
        "graphsage_evaluation = Evaluation(predictions, inductive_labels, \"GraphSAGE+features\") \n",
        "graphsage_evaluation.pr_curve()\n",
        "\n",
        "if add_additional_data is True:\n",
        "    baseline_evaluation = Evaluation(baseline_predictions, inductive_labels, \"Baseline\")\n",
        "    baseline_evaluation.pr_curve()"
      ],
      "outputs": [
        {
          "output_type": "stream",
          "name": "stdout",
          "text": [
            "Average precision-recall score for  GraphSAGE+features  configuration XGBoost: 0.8632237092\n",
            "Average precision-recall score for  Baseline  configuration XGBoost: 0.8197498524\n"
          ]
        },
        {
          "output_type": "display_data",
          "data": {
            "image/png": "[encoded data removed]",
            "text/plain": [
              "<Figure size 432x288 with 1 Axes>"
            ]
          },
          "metadata": {
            "needs_background": "light"
          }
        }
      ],
      "execution_count": 12,
      "metadata": {
        "scrolled": false
      }
    }
  ],
  "metadata": {
    "kernelspec": {
      "display_name": "Python 3",
      "language": "python",
      "name": "python3"
    },
    "language_info": {
      "codemirror_mode": {
        "name": "ipython",
        "version": 3
      },
      "file_extension": ".py",
      "mimetype": "text/x-python",
      "name": "python",
      "nbconvert_exporter": "python",
      "pygments_lexer": "ipython3",
      "version": "3.7.4"
    },
    "nteract": {
      "version": "0.23.3"
    }
  },
  "nbformat": 4,
  "nbformat_minor": 2
}